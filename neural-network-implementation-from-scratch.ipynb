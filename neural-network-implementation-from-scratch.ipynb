{
 "cells": [
  {
   "cell_type": "code",
   "execution_count": 1,
   "id": "57e91c1a",
   "metadata": {
    "_cell_guid": "b1076dfc-b9ad-4769-8c92-a6c4dae69d19",
    "_uuid": "8f2839f25d086af736a60e9eeb907d3b93b6e0e5",
    "execution": {
     "iopub.execute_input": "2022-04-17T19:20:27.760447Z",
     "iopub.status.busy": "2022-04-17T19:20:27.759901Z",
     "iopub.status.idle": "2022-04-17T19:20:27.772405Z",
     "shell.execute_reply": "2022-04-17T19:20:27.771424Z"
    },
    "papermill": {
     "duration": 0.025101,
     "end_time": "2022-04-17T19:20:27.774926",
     "exception": false,
     "start_time": "2022-04-17T19:20:27.749825",
     "status": "completed"
    },
    "tags": []
   },
   "outputs": [],
   "source": [
    "# This Python 3 environment comes with many helpful analytics libraries installed\n",
    "# It is defined by the kaggle/python Docker image: https://github.com/kaggle/docker-python\n",
    "# For example, here's several helpful packages to load\n",
    "\n",
    "import numpy as np # linear algebra\n",
    "import pandas as pd # data processing, CSV file I/O (e.g. pd.read_csv)\n",
    "\n",
    "# Input data files are available in the read-only \"../input/\" directory\n",
    "# For example, running this (by clicking run or pressing Shift+Enter) will list all files under the input directory\n",
    "\n",
    "import os\n",
    "for dirname, _, filenames in os.walk('/kaggle/input'):\n",
    "    for filename in filenames:\n",
    "        print(os.path.join(dirname, filename))\n",
    "\n",
    "# You can write up to 20GB to the current directory (/kaggle/working/) that gets preserved as output when you create a version using \"Save & Run All\" \n",
    "# You can also write temporary files to /kaggle/temp/, but they won't be saved outside of the current session"
   ]
  },
  {
   "cell_type": "markdown",
   "id": "760accd9",
   "metadata": {
    "papermill": {
     "duration": 0.007269,
     "end_time": "2022-04-17T19:20:27.789727",
     "exception": false,
     "start_time": "2022-04-17T19:20:27.782458",
     "status": "completed"
    },
    "tags": []
   },
   "source": []
  },
  {
   "cell_type": "code",
   "execution_count": 2,
   "id": "cb981ec6",
   "metadata": {
    "execution": {
     "iopub.execute_input": "2022-04-17T19:20:27.806309Z",
     "iopub.status.busy": "2022-04-17T19:20:27.806011Z",
     "iopub.status.idle": "2022-04-17T19:20:27.809537Z",
     "shell.execute_reply": "2022-04-17T19:20:27.808756Z"
    },
    "papermill": {
     "duration": 0.014223,
     "end_time": "2022-04-17T19:20:27.811694",
     "exception": false,
     "start_time": "2022-04-17T19:20:27.797471",
     "status": "completed"
    },
    "tags": []
   },
   "outputs": [],
   "source": [
    "import sys\n",
    "import matplotlib"
   ]
  },
  {
   "cell_type": "code",
   "execution_count": 3,
   "id": "cef1697b",
   "metadata": {
    "execution": {
     "iopub.execute_input": "2022-04-17T19:20:27.827823Z",
     "iopub.status.busy": "2022-04-17T19:20:27.827018Z",
     "iopub.status.idle": "2022-04-17T19:20:27.833272Z",
     "shell.execute_reply": "2022-04-17T19:20:27.832599Z"
    },
    "papermill": {
     "duration": 0.017075,
     "end_time": "2022-04-17T19:20:27.835798",
     "exception": false,
     "start_time": "2022-04-17T19:20:27.818723",
     "status": "completed"
    },
    "tags": []
   },
   "outputs": [
    {
     "name": "stdout",
     "output_type": "stream",
     "text": [
      "2.3\n"
     ]
    }
   ],
   "source": [
    "#creating some input and output values\n",
    "inputs = [1,2,3]\n",
    "weights = [0.2,0.8,-0.5]\n",
    "bias = 2\n",
    "\n",
    "output = inputs[0]*weights[0] + inputs[1]*weights[1] + inputs[2]*weights[2] + bias\n",
    "\n",
    "print(output)\n"
   ]
  },
  {
   "cell_type": "code",
   "execution_count": 4,
   "id": "3a87fd1a",
   "metadata": {
    "execution": {
     "iopub.execute_input": "2022-04-17T19:20:27.853764Z",
     "iopub.status.busy": "2022-04-17T19:20:27.853193Z",
     "iopub.status.idle": "2022-04-17T19:20:27.862522Z",
     "shell.execute_reply": "2022-04-17T19:20:27.861595Z"
    },
    "papermill": {
     "duration": 0.02044,
     "end_time": "2022-04-17T19:20:27.864715",
     "exception": false,
     "start_time": "2022-04-17T19:20:27.844275",
     "status": "completed"
    },
    "tags": []
   },
   "outputs": [
    {
     "name": "stdout",
     "output_type": "stream",
     "text": [
      "[4.8, 1.21, 2.385]\n"
     ]
    }
   ],
   "source": [
    "#creating some input and output values\n",
    "inputs = [1,2,3,2.5]\n",
    "weights1 = [0.2,0.8,-0.5,1.0]\n",
    "weights2 = [0.5,-0.91,0.26,-0.5]\n",
    "weights3 = [-0.26,-0.27,0.17,0.87]\n",
    "bias1 = 2\n",
    "bias2 = 3\n",
    "bias3 = 0.5\n",
    "\n",
    "output = [inputs[0]*weights1[0] + inputs[1]*weights1[1] + inputs[2]*weights1[2] + inputs[3]*weights1[3]  + bias1,\n",
    "         inputs[0]*weights2[0] + inputs[1]*weights2[1] + inputs[2]*weights2[2] + inputs[3]*weights2[3]  + bias2,\n",
    "         inputs[0]*weights3[0] + inputs[1]*weights3[1] + inputs[2]*weights3[2] + inputs[3]*weights3[3]  + bias3]\n",
    "\n",
    "print(output)\n"
   ]
  },
  {
   "cell_type": "code",
   "execution_count": null,
   "id": "b8c562c0",
   "metadata": {
    "papermill": {
     "duration": 0.007893,
     "end_time": "2022-04-17T19:20:27.880477",
     "exception": false,
     "start_time": "2022-04-17T19:20:27.872584",
     "status": "completed"
    },
    "tags": []
   },
   "outputs": [],
   "source": []
  }
 ],
 "metadata": {
  "kernelspec": {
   "display_name": "Python 3",
   "language": "python",
   "name": "python3"
  },
  "language_info": {
   "codemirror_mode": {
    "name": "ipython",
    "version": 3
   },
   "file_extension": ".py",
   "mimetype": "text/x-python",
   "name": "python",
   "nbconvert_exporter": "python",
   "pygments_lexer": "ipython3",
   "version": "3.7.12"
  },
  "papermill": {
   "default_parameters": {},
   "duration": 11.882441,
   "end_time": "2022-04-17T19:20:28.609491",
   "environment_variables": {},
   "exception": null,
   "input_path": "__notebook__.ipynb",
   "output_path": "__notebook__.ipynb",
   "parameters": {},
   "start_time": "2022-04-17T19:20:16.727050",
   "version": "2.3.4"
  }
 },
 "nbformat": 4,
 "nbformat_minor": 5
}
